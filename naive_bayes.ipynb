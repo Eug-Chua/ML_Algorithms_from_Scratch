{
 "cells": [
  {
   "cell_type": "markdown",
   "metadata": {},
   "source": [
    "# Naive Bayes"
   ]
  },
  {
   "cell_type": "code",
   "execution_count": 2,
   "metadata": {},
   "outputs": [],
   "source": [
    "import numpy as np"
   ]
  },
  {
   "cell_type": "code",
   "execution_count": null,
   "metadata": {},
   "outputs": [],
   "source": [
    "class NaiveBayes:\n",
    "\n",
    "    def fit(self, X, y):\n",
    "        # X is an Ndarray\n",
    "        # n_samples: number of rows in dataset\n",
    "        # n_features: number of columns in dataset\n",
    "        n_samples, n_features = X.shape\n",
    "\n",
    "        # find the unique labels in dataset\n",
    "        self._classes = np.unique(y)\n",
    "        n_classes = len(self._classes)\n",
    "\n",
    "        # initialize mean and var for each feature, with zeros\n",
    "        self._mean = np.zeros((n_classes, n_features), dtype=np.float64)\n",
    "        self._var = np.zeros((n_classes, n_features), dtype=np.float64)\n",
    "        \n",
    "        # initialize priors with zeros\n",
    "        # self_priors will be a 1D vector of number of labels with float datatypes\n",
    "        self._priors = np.zeros(n_classes, dtype=np.float64)\n",
    "\n",
    "        # for each class\n",
    "        for c in self._classes:\n",
    "            # check that the predicted class is the same as the actual class\n",
    "            # if they are, store them in X_c\n",
    "            X_c = X[c==y]\n",
    "\n",
    "            # calculate mean for each class\n",
    "            self._mean[c,:] = X_c.mean(axis=0)\n",
    "\n",
    "            # calculate variance for each class\n",
    "            self._var[c,:] = X_c.var(axis=0)\n",
    "            self._priors[c] = X_c.shape[0] / float(n_samples)\n",
    "\n",
    "    def predict(self, X):\n",
    "        # predict y for each sample in the dataset\n",
    "        y_pred = [self._predict(x) for x in X]\n",
    "        return y_pred\n",
    "    \n",
    "    def _predict(self, x):\n",
    "        posteriors = []\n",
    "\n",
    "        # for each class and its corresponding index\n",
    "        for idx, c in enumerate(self._classes):\n",
    "            # calculate the prior probability of the class's logarithm\n",
    "            prior = np.log(self._priors[idx])\n",
    "\n",
    "            # calculate the class conditional probability of the input sample x\n",
    "            # we do this by callling the _pdf method and simming the logarithms of the probabilities for each feature\n",
    "            class_conditional = np.sum(np.log(self._pdf(idx, x)))\n",
    "\n",
    "            # calculate the posterior probability which is the sum of the prior and the class-conditional probabilities' log \n",
    "            posterior = prior + class_conditional\n",
    "            posteriors.append(posterior)\n",
    "\n",
    "        # use argmax to get the class label with the highest posterior probability\n",
    "        return self._classes[np.argmax(posteriors)]\n",
    "            \n",
    "    def _pdf(self, class_idx, x):\n",
    "        # calculate the class's mean\n",
    "        mean = self._mean[class_idx]\n",
    "        # calculate the class's variance \n",
    "        var = self._var[class_idx]\n",
    "        \n",
    "        numerator = np.exp(-(x-mean)**2 / (2 * var))\n",
    "        denominator = np.sqrt(2 * np.pi * var)\n",
    "        return numerator / denominator"
   ]
  }
 ],
 "metadata": {
  "kernelspec": {
   "display_name": "Python 3",
   "language": "python",
   "name": "python3"
  },
  "language_info": {
   "codemirror_mode": {
    "name": "ipython",
    "version": 3
   },
   "file_extension": ".py",
   "mimetype": "text/x-python",
   "name": "python",
   "nbconvert_exporter": "python",
   "pygments_lexer": "ipython3",
   "version": "3.11.0"
  }
 },
 "nbformat": 4,
 "nbformat_minor": 2
}
