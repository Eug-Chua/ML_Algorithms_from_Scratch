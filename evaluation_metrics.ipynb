{
 "cells": [
  {
   "cell_type": "markdown",
   "metadata": {},
   "source": [
    "# Classification Accuracy"
   ]
  },
  {
   "cell_type": "markdown",
   "metadata": {},
   "source": [
    "A simple way to evaluate a set of predictions on a classificaiton problem is by using accuracy.\n",
    "\n",
    "Classification accuracy tells us the number of correct predictions out of all the predictions that were made:\n",
    "\n",
    "Accuracy = $\\frac{\\text{correct predictions}}{\\text{total predictions}}$"
   ]
  },
  {
   "cell_type": "code",
   "execution_count": 17,
   "metadata": {},
   "outputs": [],
   "source": [
    "# calculate the accuracy percentage between 2 lists\n",
    "def correct_counter(actual, predicted):\n",
    "\n",
    "    # set the container that stores correct matches to start with 0\n",
    "    correct = 0\n",
    "\n",
    "    for i in range(len(actual)-1):\n",
    "        # correct container to add 1 if there is a match\n",
    "        if actual[i] == predicted[i]:\n",
    "            correct += 1\n",
    "\n",
    "    return round(correct /  len(actual) * 100, 2)\n"
   ]
  },
  {
   "cell_type": "code",
   "execution_count": 19,
   "metadata": {},
   "outputs": [
    {
     "name": "stdout",
     "output_type": "stream",
     "text": [
      "36.36\n"
     ]
    }
   ],
   "source": [
    "actual = [0,0,0,1,1,1,0,1,0,1,0]\n",
    "predicted = [1,0,1,0,0,1,0,0,1,1]\n",
    "\n",
    "accuracy = correct_counter(actual, predicted)\n",
    "print(accuracy)"
   ]
  },
  {
   "cell_type": "code",
   "execution_count": null,
   "metadata": {},
   "outputs": [],
   "source": []
  }
 ],
 "metadata": {
  "kernelspec": {
   "display_name": "Python 3",
   "language": "python",
   "name": "python3"
  },
  "language_info": {
   "codemirror_mode": {
    "name": "ipython",
    "version": 3
   },
   "file_extension": ".py",
   "mimetype": "text/x-python",
   "name": "python",
   "nbconvert_exporter": "python",
   "pygments_lexer": "ipython3",
   "version": "3.11.0"
  }
 },
 "nbformat": 4,
 "nbformat_minor": 2
}
